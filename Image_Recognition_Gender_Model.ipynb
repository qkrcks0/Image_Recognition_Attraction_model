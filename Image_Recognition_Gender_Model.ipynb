{
  "nbformat": 4,
  "nbformat_minor": 0,
  "metadata": {
    "colab": {
      "name": "Image_Recognition_Gender_Model.ipynb",
      "provenance": [],
      "collapsed_sections": [],
      "mount_file_id": "1MeAlIfhZkOwHCjzIyxxudkyqBOfN385T",
      "authorship_tag": "ABX9TyOCtFbJ2scStp+U4kXdcLJT",
      "include_colab_link": true
    },
    "kernelspec": {
      "name": "python3",
      "display_name": "Python 3"
    },
    "accelerator": "GPU"
  },
  "cells": [
    {
      "cell_type": "markdown",
      "metadata": {
        "id": "view-in-github",
        "colab_type": "text"
      },
      "source": [
        "<a href=\"https://colab.research.google.com/github/qkrcks0/Image_Recognition_Attraction_model/blob/main/Image_Recognition_Gender_Model.ipynb\" target=\"_parent\"><img src=\"https://colab.research.google.com/assets/colab-badge.svg\" alt=\"Open In Colab\"/></a>"
      ]
    },
    {
      "cell_type": "code",
      "metadata": {
        "id": "k8Pq6bx15ta2"
      },
      "source": [
        "!unzip -q /content/drive/MyDrive/kaggle_celeb_faces_dataset.zip -d kaggle"
      ],
      "execution_count": 1,
      "outputs": []
    },
    {
      "cell_type": "code",
      "metadata": {
        "id": "H1Jpu1u49v8J"
      },
      "source": [
        "import numpy as np\r\n",
        "import matplotlib.pyplot as plt\r\n",
        "import tensorflow as tf\r\n",
        "from tensorflow.keras.preprocessing.image import ImageDataGenerator, load_img, array_to_img, img_to_array\r\n",
        "import glob\r\n",
        "import os\r\n",
        "import pandas as pd\r\n",
        "import cv2\r\n",
        "from keras.utils import np_utils\r\n",
        "from tqdm.notebook import tqdm"
      ],
      "execution_count": 2,
      "outputs": []
    },
    {
      "cell_type": "code",
      "metadata": {
        "colab": {
          "base_uri": "https://localhost:8080/",
          "height": 35
        },
        "id": "nwo4Hi0Z-CNk",
        "outputId": "7146a09f-b446-4cee-a8fb-88c19af19e35"
      },
      "source": [
        "img_dir = os.path.join(\"/content/kaggle/img_align_celeba/img_align_celeba/\")\r\n",
        "img_dir"
      ],
      "execution_count": 3,
      "outputs": [
        {
          "output_type": "execute_result",
          "data": {
            "application/vnd.google.colaboratory.intrinsic+json": {
              "type": "string"
            },
            "text/plain": [
              "'/content/kaggle/img_align_celeba/img_align_celeba/'"
            ]
          },
          "metadata": {
            "tags": []
          },
          "execution_count": 3
        }
      ]
    },
    {
      "cell_type": "code",
      "metadata": {
        "colab": {
          "base_uri": "https://localhost:8080/"
        },
        "id": "lNI6Op5w-a4Y",
        "outputId": "ec1b4df8-980f-49da-9d67-649e7a16adc7"
      },
      "source": [
        "img_paths = os.listdir(img_dir)\r\n",
        "img_paths.sort()\r\n",
        "img_paths[:5], len(img_paths)"
      ],
      "execution_count": 4,
      "outputs": [
        {
          "output_type": "execute_result",
          "data": {
            "text/plain": [
              "(['000001.jpg', '000002.jpg', '000003.jpg', '000004.jpg', '000005.jpg'],\n",
              " 202599)"
            ]
          },
          "metadata": {
            "tags": []
          },
          "execution_count": 4
        }
      ]
    },
    {
      "cell_type": "code",
      "metadata": {
        "colab": {
          "base_uri": "https://localhost:8080/",
          "height": 223
        },
        "id": "8FaKsGsy-xrA",
        "outputId": "871cd387-6ba5-43cb-afd3-5a196f59eea6"
      },
      "source": [
        "attr = pd.read_csv(\"/content/kaggle/list_attr_celeba.csv\")\r\n",
        "attr.head()"
      ],
      "execution_count": 5,
      "outputs": [
        {
          "output_type": "execute_result",
          "data": {
            "text/html": [
              "<div>\n",
              "<style scoped>\n",
              "    .dataframe tbody tr th:only-of-type {\n",
              "        vertical-align: middle;\n",
              "    }\n",
              "\n",
              "    .dataframe tbody tr th {\n",
              "        vertical-align: top;\n",
              "    }\n",
              "\n",
              "    .dataframe thead th {\n",
              "        text-align: right;\n",
              "    }\n",
              "</style>\n",
              "<table border=\"1\" class=\"dataframe\">\n",
              "  <thead>\n",
              "    <tr style=\"text-align: right;\">\n",
              "      <th></th>\n",
              "      <th>image_id</th>\n",
              "      <th>5_o_Clock_Shadow</th>\n",
              "      <th>Arched_Eyebrows</th>\n",
              "      <th>Attractive</th>\n",
              "      <th>Bags_Under_Eyes</th>\n",
              "      <th>Bald</th>\n",
              "      <th>Bangs</th>\n",
              "      <th>Big_Lips</th>\n",
              "      <th>Big_Nose</th>\n",
              "      <th>Black_Hair</th>\n",
              "      <th>Blond_Hair</th>\n",
              "      <th>Blurry</th>\n",
              "      <th>Brown_Hair</th>\n",
              "      <th>Bushy_Eyebrows</th>\n",
              "      <th>Chubby</th>\n",
              "      <th>Double_Chin</th>\n",
              "      <th>Eyeglasses</th>\n",
              "      <th>Goatee</th>\n",
              "      <th>Gray_Hair</th>\n",
              "      <th>Heavy_Makeup</th>\n",
              "      <th>High_Cheekbones</th>\n",
              "      <th>Male</th>\n",
              "      <th>Mouth_Slightly_Open</th>\n",
              "      <th>Mustache</th>\n",
              "      <th>Narrow_Eyes</th>\n",
              "      <th>No_Beard</th>\n",
              "      <th>Oval_Face</th>\n",
              "      <th>Pale_Skin</th>\n",
              "      <th>Pointy_Nose</th>\n",
              "      <th>Receding_Hairline</th>\n",
              "      <th>Rosy_Cheeks</th>\n",
              "      <th>Sideburns</th>\n",
              "      <th>Smiling</th>\n",
              "      <th>Straight_Hair</th>\n",
              "      <th>Wavy_Hair</th>\n",
              "      <th>Wearing_Earrings</th>\n",
              "      <th>Wearing_Hat</th>\n",
              "      <th>Wearing_Lipstick</th>\n",
              "      <th>Wearing_Necklace</th>\n",
              "      <th>Wearing_Necktie</th>\n",
              "      <th>Young</th>\n",
              "    </tr>\n",
              "  </thead>\n",
              "  <tbody>\n",
              "    <tr>\n",
              "      <th>0</th>\n",
              "      <td>000001.jpg</td>\n",
              "      <td>-1</td>\n",
              "      <td>1</td>\n",
              "      <td>1</td>\n",
              "      <td>-1</td>\n",
              "      <td>-1</td>\n",
              "      <td>-1</td>\n",
              "      <td>-1</td>\n",
              "      <td>-1</td>\n",
              "      <td>-1</td>\n",
              "      <td>-1</td>\n",
              "      <td>-1</td>\n",
              "      <td>1</td>\n",
              "      <td>-1</td>\n",
              "      <td>-1</td>\n",
              "      <td>-1</td>\n",
              "      <td>-1</td>\n",
              "      <td>-1</td>\n",
              "      <td>-1</td>\n",
              "      <td>1</td>\n",
              "      <td>1</td>\n",
              "      <td>-1</td>\n",
              "      <td>1</td>\n",
              "      <td>-1</td>\n",
              "      <td>-1</td>\n",
              "      <td>1</td>\n",
              "      <td>-1</td>\n",
              "      <td>-1</td>\n",
              "      <td>1</td>\n",
              "      <td>-1</td>\n",
              "      <td>-1</td>\n",
              "      <td>-1</td>\n",
              "      <td>1</td>\n",
              "      <td>1</td>\n",
              "      <td>-1</td>\n",
              "      <td>1</td>\n",
              "      <td>-1</td>\n",
              "      <td>1</td>\n",
              "      <td>-1</td>\n",
              "      <td>-1</td>\n",
              "      <td>1</td>\n",
              "    </tr>\n",
              "    <tr>\n",
              "      <th>1</th>\n",
              "      <td>000002.jpg</td>\n",
              "      <td>-1</td>\n",
              "      <td>-1</td>\n",
              "      <td>-1</td>\n",
              "      <td>1</td>\n",
              "      <td>-1</td>\n",
              "      <td>-1</td>\n",
              "      <td>-1</td>\n",
              "      <td>1</td>\n",
              "      <td>-1</td>\n",
              "      <td>-1</td>\n",
              "      <td>-1</td>\n",
              "      <td>1</td>\n",
              "      <td>-1</td>\n",
              "      <td>-1</td>\n",
              "      <td>-1</td>\n",
              "      <td>-1</td>\n",
              "      <td>-1</td>\n",
              "      <td>-1</td>\n",
              "      <td>-1</td>\n",
              "      <td>1</td>\n",
              "      <td>-1</td>\n",
              "      <td>1</td>\n",
              "      <td>-1</td>\n",
              "      <td>-1</td>\n",
              "      <td>1</td>\n",
              "      <td>-1</td>\n",
              "      <td>-1</td>\n",
              "      <td>-1</td>\n",
              "      <td>-1</td>\n",
              "      <td>-1</td>\n",
              "      <td>-1</td>\n",
              "      <td>1</td>\n",
              "      <td>-1</td>\n",
              "      <td>-1</td>\n",
              "      <td>-1</td>\n",
              "      <td>-1</td>\n",
              "      <td>-1</td>\n",
              "      <td>-1</td>\n",
              "      <td>-1</td>\n",
              "      <td>1</td>\n",
              "    </tr>\n",
              "    <tr>\n",
              "      <th>2</th>\n",
              "      <td>000003.jpg</td>\n",
              "      <td>-1</td>\n",
              "      <td>-1</td>\n",
              "      <td>-1</td>\n",
              "      <td>-1</td>\n",
              "      <td>-1</td>\n",
              "      <td>-1</td>\n",
              "      <td>1</td>\n",
              "      <td>-1</td>\n",
              "      <td>-1</td>\n",
              "      <td>-1</td>\n",
              "      <td>1</td>\n",
              "      <td>-1</td>\n",
              "      <td>-1</td>\n",
              "      <td>-1</td>\n",
              "      <td>-1</td>\n",
              "      <td>-1</td>\n",
              "      <td>-1</td>\n",
              "      <td>-1</td>\n",
              "      <td>-1</td>\n",
              "      <td>-1</td>\n",
              "      <td>1</td>\n",
              "      <td>-1</td>\n",
              "      <td>-1</td>\n",
              "      <td>1</td>\n",
              "      <td>1</td>\n",
              "      <td>-1</td>\n",
              "      <td>-1</td>\n",
              "      <td>1</td>\n",
              "      <td>-1</td>\n",
              "      <td>-1</td>\n",
              "      <td>-1</td>\n",
              "      <td>-1</td>\n",
              "      <td>-1</td>\n",
              "      <td>1</td>\n",
              "      <td>-1</td>\n",
              "      <td>-1</td>\n",
              "      <td>-1</td>\n",
              "      <td>-1</td>\n",
              "      <td>-1</td>\n",
              "      <td>1</td>\n",
              "    </tr>\n",
              "    <tr>\n",
              "      <th>3</th>\n",
              "      <td>000004.jpg</td>\n",
              "      <td>-1</td>\n",
              "      <td>-1</td>\n",
              "      <td>1</td>\n",
              "      <td>-1</td>\n",
              "      <td>-1</td>\n",
              "      <td>-1</td>\n",
              "      <td>-1</td>\n",
              "      <td>-1</td>\n",
              "      <td>-1</td>\n",
              "      <td>-1</td>\n",
              "      <td>-1</td>\n",
              "      <td>-1</td>\n",
              "      <td>-1</td>\n",
              "      <td>-1</td>\n",
              "      <td>-1</td>\n",
              "      <td>-1</td>\n",
              "      <td>-1</td>\n",
              "      <td>-1</td>\n",
              "      <td>-1</td>\n",
              "      <td>-1</td>\n",
              "      <td>-1</td>\n",
              "      <td>-1</td>\n",
              "      <td>-1</td>\n",
              "      <td>-1</td>\n",
              "      <td>1</td>\n",
              "      <td>-1</td>\n",
              "      <td>-1</td>\n",
              "      <td>1</td>\n",
              "      <td>-1</td>\n",
              "      <td>-1</td>\n",
              "      <td>-1</td>\n",
              "      <td>-1</td>\n",
              "      <td>1</td>\n",
              "      <td>-1</td>\n",
              "      <td>1</td>\n",
              "      <td>-1</td>\n",
              "      <td>1</td>\n",
              "      <td>1</td>\n",
              "      <td>-1</td>\n",
              "      <td>1</td>\n",
              "    </tr>\n",
              "    <tr>\n",
              "      <th>4</th>\n",
              "      <td>000005.jpg</td>\n",
              "      <td>-1</td>\n",
              "      <td>1</td>\n",
              "      <td>1</td>\n",
              "      <td>-1</td>\n",
              "      <td>-1</td>\n",
              "      <td>-1</td>\n",
              "      <td>1</td>\n",
              "      <td>-1</td>\n",
              "      <td>-1</td>\n",
              "      <td>-1</td>\n",
              "      <td>-1</td>\n",
              "      <td>-1</td>\n",
              "      <td>-1</td>\n",
              "      <td>-1</td>\n",
              "      <td>-1</td>\n",
              "      <td>-1</td>\n",
              "      <td>-1</td>\n",
              "      <td>-1</td>\n",
              "      <td>1</td>\n",
              "      <td>-1</td>\n",
              "      <td>-1</td>\n",
              "      <td>-1</td>\n",
              "      <td>-1</td>\n",
              "      <td>1</td>\n",
              "      <td>1</td>\n",
              "      <td>-1</td>\n",
              "      <td>-1</td>\n",
              "      <td>1</td>\n",
              "      <td>-1</td>\n",
              "      <td>-1</td>\n",
              "      <td>-1</td>\n",
              "      <td>-1</td>\n",
              "      <td>-1</td>\n",
              "      <td>-1</td>\n",
              "      <td>-1</td>\n",
              "      <td>-1</td>\n",
              "      <td>1</td>\n",
              "      <td>-1</td>\n",
              "      <td>-1</td>\n",
              "      <td>1</td>\n",
              "    </tr>\n",
              "  </tbody>\n",
              "</table>\n",
              "</div>"
            ],
            "text/plain": [
              "     image_id  5_o_Clock_Shadow  ...  Wearing_Necktie  Young\n",
              "0  000001.jpg                -1  ...               -1      1\n",
              "1  000002.jpg                -1  ...               -1      1\n",
              "2  000003.jpg                -1  ...               -1      1\n",
              "3  000004.jpg                -1  ...               -1      1\n",
              "4  000005.jpg                -1  ...               -1      1\n",
              "\n",
              "[5 rows x 41 columns]"
            ]
          },
          "metadata": {
            "tags": []
          },
          "execution_count": 5
        }
      ]
    },
    {
      "cell_type": "code",
      "metadata": {
        "colab": {
          "base_uri": "https://localhost:8080/"
        },
        "id": "QsyvEDDr-9vP",
        "outputId": "9ca419a0-fd26-4c19-bd15-3b2ca32c978b"
      },
      "source": [
        "attr.columns"
      ],
      "execution_count": 6,
      "outputs": [
        {
          "output_type": "execute_result",
          "data": {
            "text/plain": [
              "Index(['image_id', '5_o_Clock_Shadow', 'Arched_Eyebrows', 'Attractive',\n",
              "       'Bags_Under_Eyes', 'Bald', 'Bangs', 'Big_Lips', 'Big_Nose',\n",
              "       'Black_Hair', 'Blond_Hair', 'Blurry', 'Brown_Hair', 'Bushy_Eyebrows',\n",
              "       'Chubby', 'Double_Chin', 'Eyeglasses', 'Goatee', 'Gray_Hair',\n",
              "       'Heavy_Makeup', 'High_Cheekbones', 'Male', 'Mouth_Slightly_Open',\n",
              "       'Mustache', 'Narrow_Eyes', 'No_Beard', 'Oval_Face', 'Pale_Skin',\n",
              "       'Pointy_Nose', 'Receding_Hairline', 'Rosy_Cheeks', 'Sideburns',\n",
              "       'Smiling', 'Straight_Hair', 'Wavy_Hair', 'Wearing_Earrings',\n",
              "       'Wearing_Hat', 'Wearing_Lipstick', 'Wearing_Necklace',\n",
              "       'Wearing_Necktie', 'Young'],\n",
              "      dtype='object')"
            ]
          },
          "metadata": {
            "tags": []
          },
          "execution_count": 6
        }
      ]
    },
    {
      "cell_type": "code",
      "metadata": {
        "colab": {
          "base_uri": "https://localhost:8080/",
          "height": 417
        },
        "id": "WThAtTM1drWE",
        "outputId": "b6cc9b13-383c-4d86-9e26-491ed4843541"
      },
      "source": [
        "partition_df = pd.read_csv(\"/content/kaggle/list_eval_partition.csv\")\r\n",
        "partition_df"
      ],
      "execution_count": 7,
      "outputs": [
        {
          "output_type": "execute_result",
          "data": {
            "text/html": [
              "<div>\n",
              "<style scoped>\n",
              "    .dataframe tbody tr th:only-of-type {\n",
              "        vertical-align: middle;\n",
              "    }\n",
              "\n",
              "    .dataframe tbody tr th {\n",
              "        vertical-align: top;\n",
              "    }\n",
              "\n",
              "    .dataframe thead th {\n",
              "        text-align: right;\n",
              "    }\n",
              "</style>\n",
              "<table border=\"1\" class=\"dataframe\">\n",
              "  <thead>\n",
              "    <tr style=\"text-align: right;\">\n",
              "      <th></th>\n",
              "      <th>image_id</th>\n",
              "      <th>partition</th>\n",
              "    </tr>\n",
              "  </thead>\n",
              "  <tbody>\n",
              "    <tr>\n",
              "      <th>0</th>\n",
              "      <td>000001.jpg</td>\n",
              "      <td>0</td>\n",
              "    </tr>\n",
              "    <tr>\n",
              "      <th>1</th>\n",
              "      <td>000002.jpg</td>\n",
              "      <td>0</td>\n",
              "    </tr>\n",
              "    <tr>\n",
              "      <th>2</th>\n",
              "      <td>000003.jpg</td>\n",
              "      <td>0</td>\n",
              "    </tr>\n",
              "    <tr>\n",
              "      <th>3</th>\n",
              "      <td>000004.jpg</td>\n",
              "      <td>0</td>\n",
              "    </tr>\n",
              "    <tr>\n",
              "      <th>4</th>\n",
              "      <td>000005.jpg</td>\n",
              "      <td>0</td>\n",
              "    </tr>\n",
              "    <tr>\n",
              "      <th>...</th>\n",
              "      <td>...</td>\n",
              "      <td>...</td>\n",
              "    </tr>\n",
              "    <tr>\n",
              "      <th>202594</th>\n",
              "      <td>202595.jpg</td>\n",
              "      <td>2</td>\n",
              "    </tr>\n",
              "    <tr>\n",
              "      <th>202595</th>\n",
              "      <td>202596.jpg</td>\n",
              "      <td>2</td>\n",
              "    </tr>\n",
              "    <tr>\n",
              "      <th>202596</th>\n",
              "      <td>202597.jpg</td>\n",
              "      <td>2</td>\n",
              "    </tr>\n",
              "    <tr>\n",
              "      <th>202597</th>\n",
              "      <td>202598.jpg</td>\n",
              "      <td>2</td>\n",
              "    </tr>\n",
              "    <tr>\n",
              "      <th>202598</th>\n",
              "      <td>202599.jpg</td>\n",
              "      <td>2</td>\n",
              "    </tr>\n",
              "  </tbody>\n",
              "</table>\n",
              "<p>202599 rows × 2 columns</p>\n",
              "</div>"
            ],
            "text/plain": [
              "          image_id  partition\n",
              "0       000001.jpg          0\n",
              "1       000002.jpg          0\n",
              "2       000003.jpg          0\n",
              "3       000004.jpg          0\n",
              "4       000005.jpg          0\n",
              "...            ...        ...\n",
              "202594  202595.jpg          2\n",
              "202595  202596.jpg          2\n",
              "202596  202597.jpg          2\n",
              "202597  202598.jpg          2\n",
              "202598  202599.jpg          2\n",
              "\n",
              "[202599 rows x 2 columns]"
            ]
          },
          "metadata": {
            "tags": []
          },
          "execution_count": 7
        }
      ]
    },
    {
      "cell_type": "code",
      "metadata": {
        "colab": {
          "base_uri": "https://localhost:8080/",
          "height": 203
        },
        "id": "IBNBockw_bEH",
        "outputId": "42b03fdd-3508-49e5-be20-7a290256ea99"
      },
      "source": [
        "attraction_df = pd.DataFrame(attr[\"image_id\"])\r\n",
        "attraction_df[\"Attractive\"] = attr[\"Attractive\"]\r\n",
        "attraction_df[\"Gender\"] = attr[\"Male\"]\r\n",
        "attraction_df.loc[attraction_df.Gender == -1, \"Gender\"] = 0\r\n",
        "attraction_df.loc[attraction_df.Attractive == -1, \"Attractive\"] = 0\r\n",
        "attraction_df[\"Partition\"] = partition_df[\"partition\"]\r\n",
        "attraction_df.head()"
      ],
      "execution_count": 8,
      "outputs": [
        {
          "output_type": "execute_result",
          "data": {
            "text/html": [
              "<div>\n",
              "<style scoped>\n",
              "    .dataframe tbody tr th:only-of-type {\n",
              "        vertical-align: middle;\n",
              "    }\n",
              "\n",
              "    .dataframe tbody tr th {\n",
              "        vertical-align: top;\n",
              "    }\n",
              "\n",
              "    .dataframe thead th {\n",
              "        text-align: right;\n",
              "    }\n",
              "</style>\n",
              "<table border=\"1\" class=\"dataframe\">\n",
              "  <thead>\n",
              "    <tr style=\"text-align: right;\">\n",
              "      <th></th>\n",
              "      <th>image_id</th>\n",
              "      <th>Attractive</th>\n",
              "      <th>Gender</th>\n",
              "      <th>Partition</th>\n",
              "    </tr>\n",
              "  </thead>\n",
              "  <tbody>\n",
              "    <tr>\n",
              "      <th>0</th>\n",
              "      <td>000001.jpg</td>\n",
              "      <td>1</td>\n",
              "      <td>0</td>\n",
              "      <td>0</td>\n",
              "    </tr>\n",
              "    <tr>\n",
              "      <th>1</th>\n",
              "      <td>000002.jpg</td>\n",
              "      <td>0</td>\n",
              "      <td>0</td>\n",
              "      <td>0</td>\n",
              "    </tr>\n",
              "    <tr>\n",
              "      <th>2</th>\n",
              "      <td>000003.jpg</td>\n",
              "      <td>0</td>\n",
              "      <td>1</td>\n",
              "      <td>0</td>\n",
              "    </tr>\n",
              "    <tr>\n",
              "      <th>3</th>\n",
              "      <td>000004.jpg</td>\n",
              "      <td>1</td>\n",
              "      <td>0</td>\n",
              "      <td>0</td>\n",
              "    </tr>\n",
              "    <tr>\n",
              "      <th>4</th>\n",
              "      <td>000005.jpg</td>\n",
              "      <td>1</td>\n",
              "      <td>0</td>\n",
              "      <td>0</td>\n",
              "    </tr>\n",
              "  </tbody>\n",
              "</table>\n",
              "</div>"
            ],
            "text/plain": [
              "     image_id  Attractive  Gender  Partition\n",
              "0  000001.jpg           1       0          0\n",
              "1  000002.jpg           0       0          0\n",
              "2  000003.jpg           0       1          0\n",
              "3  000004.jpg           1       0          0\n",
              "4  000005.jpg           1       0          0"
            ]
          },
          "metadata": {
            "tags": []
          },
          "execution_count": 8
        }
      ]
    },
    {
      "cell_type": "code",
      "metadata": {
        "colab": {
          "base_uri": "https://localhost:8080/",
          "height": 35
        },
        "id": "Kf3QezrtIWPi",
        "outputId": "96db2ec8-56ca-4874-a74c-0bcc2149e950"
      },
      "source": [
        "attraction_df[\"image_id\"][13]"
      ],
      "execution_count": 9,
      "outputs": [
        {
          "output_type": "execute_result",
          "data": {
            "application/vnd.google.colaboratory.intrinsic+json": {
              "type": "string"
            },
            "text/plain": [
              "'000014.jpg'"
            ]
          },
          "metadata": {
            "tags": []
          },
          "execution_count": 9
        }
      ]
    },
    {
      "cell_type": "code",
      "metadata": {
        "colab": {
          "base_uri": "https://localhost:8080/",
          "height": 281
        },
        "id": "9cwz_yHeDJPP",
        "outputId": "2530d337-8f65-484d-8fea-09bebdef7500"
      },
      "source": [
        "img = np.array(load_img(img_dir + img_paths[1]))\r\n",
        "plt.title(str(attraction_df[\"Attractive\"][1]) + str(attraction_df[\"Gender\"][1]))\r\n",
        "plt.imshow(img)\r\n",
        "plt.show()"
      ],
      "execution_count": 10,
      "outputs": [
        {
          "output_type": "display_data",
          "data": {
            "image/png": "[encoded data removed]",
            "text/plain": [
              "<Figure size 432x288 with 1 Axes>"
            ]
          },
          "metadata": {
            "tags": [],
            "needs_background": "light"
          }
        }
      ]
    },
    {
      "cell_type": "code",
      "metadata": {
        "colab": {
          "base_uri": "https://localhost:8080/"
        },
        "id": "z1oI-cjBeQl2",
        "outputId": "b674df98-6600-49ab-bc39-2fb604961013"
      },
      "source": [
        "attraction_df['Partition'].value_counts().sort_index()"
      ],
      "execution_count": 11,
      "outputs": [
        {
          "output_type": "execute_result",
          "data": {
            "text/plain": [
              "0    162770\n",
              "1     19867\n",
              "2     19962\n",
              "Name: Partition, dtype: int64"
            ]
          },
          "metadata": {
            "tags": []
          },
          "execution_count": 11
        }
      ]
    },
    {
      "cell_type": "code",
      "metadata": {
        "id": "msBqCRacgw5B"
      },
      "source": [
        "def load_reshape_img(fname):\r\n",
        "    img = load_img(fname)\r\n",
        "    x = img_to_array(img)/255.\r\n",
        "    x = cv2.resize(x, (224,224))\r\n",
        "    x = x.reshape((1,) + x.shape)\r\n",
        "\r\n",
        "    return x"
      ],
      "execution_count": 12,
      "outputs": []
    },
    {
      "cell_type": "code",
      "metadata": {
        "id": "ycgkltotfwZI"
      },
      "source": [
        "def generate_df(partition, attr, num_samples):\r\n",
        "    '''\r\n",
        "    partition\r\n",
        "        0 -> train\r\n",
        "        1 -> validation\r\n",
        "        2 -> test\r\n",
        "    \r\n",
        "    '''\r\n",
        "    df_ = attraction_df[(attraction_df['Partition'] == partition) \r\n",
        "                         & (attraction_df[attr] == 0)].sample(int(num_samples/2))\r\n",
        "    df_ = pd.concat([df_, attraction_df[(attraction_df['Partition'] == partition) \r\n",
        "                                        & (attraction_df[attr] == 1)].sample(int(num_samples/2))])\r\n",
        "    \r\n",
        "    x_ = np.array([load_reshape_img(img_dir + fname) for fname in df_.image_id])\r\n",
        "    x_ = x_.reshape(x_.shape[0], 224, 224, 3)\r\n",
        "    y_ = np_utils.to_categorical(df_[\"Gender\"], 2)\r\n",
        "\r\n",
        "    return x_, y_"
      ],
      "execution_count": 13,
      "outputs": []
    },
    {
      "cell_type": "code",
      "metadata": {
        "id": "pG7vlmVbD_Tt"
      },
      "source": [
        "gender_list = [\"Female\", \"Male\"]\r\n",
        "attractive = [\"Not Attractive\", \"Attractive\"]"
      ],
      "execution_count": 14,
      "outputs": []
    },
    {
      "cell_type": "code",
      "metadata": {
        "id": "f-lzk_poGTQg"
      },
      "source": [
        "from tensorflow.keras.models import Model\r\n",
        "from tensorflow.keras.optimizers import Adam\r\n",
        "from tensorflow.keras.applications.mobilenet_v2 import MobileNetV2\r\n",
        "from tensorflow.keras.applications import InceptionV3\r\n",
        "from tensorflow.keras import models\r\n",
        "from tensorflow.keras import layers\r\n",
        "from tensorflow import keras\r\n",
        "from tensorflow.keras import applications"
      ],
      "execution_count": 15,
      "outputs": []
    },
    {
      "cell_type": "code",
      "metadata": {
        "id": "VOSdGFBCGTxw"
      },
      "source": [
        "INPUT_SHAPE = (224,224,3)\r\n",
        "BATCH_SIZE = 32\r\n",
        "NUM_EPOCHS = 20\r\n",
        "LEARNING_RATE = 0.0001\r\n",
        "TRAINING_SAMPLES = 8000\r\n",
        "VALIDATION_SAMPLES = 1600\r\n",
        "TEST_SAMPLES = 1600"
      ],
      "execution_count": 16,
      "outputs": []
    },
    {
      "cell_type": "code",
      "metadata": {
        "id": "U5As38HyVqG3"
      },
      "source": [
        "x_train, gender_y_train = generate_df(0, \"Gender\", TRAINING_SAMPLES)"
      ],
      "execution_count": 17,
      "outputs": []
    },
    {
      "cell_type": "code",
      "metadata": {
        "colab": {
          "base_uri": "https://localhost:8080/"
        },
        "id": "AKglLn8yzSVO",
        "outputId": "9a08d2aa-2ae9-42ef-e08f-b37e08a32a82"
      },
      "source": [
        "x_train.shape, gender_y_train.shape"
      ],
      "execution_count": 18,
      "outputs": [
        {
          "output_type": "execute_result",
          "data": {
            "text/plain": [
              "((8000, 224, 224, 3), (8000, 2))"
            ]
          },
          "metadata": {
            "tags": []
          },
          "execution_count": 18
        }
      ]
    },
    {
      "cell_type": "code",
      "metadata": {
        "colab": {
          "base_uri": "https://localhost:8080/",
          "height": 338
        },
        "id": "R18IyUtP9yxa",
        "outputId": "32903a3e-17c4-48f7-e50a-d750386567ad"
      },
      "source": [
        "img = x_train[2].reshape((224,224,3))\r\n",
        "plt.title(gender_y_train[2])\r\n",
        "plt.imshow(img)\r\n",
        "plt.show()"
      ],
      "execution_count": 19,
      "outputs": [
        {
          "output_type": "stream",
          "text": [
            "/usr/local/lib/python3.6/dist-packages/matplotlib/text.py:1165: FutureWarning: elementwise comparison failed; returning scalar instead, but in the future will perform elementwise comparison\n",
            "  if s != self._text:\n"
          ],
          "name": "stderr"
        },
        {
          "output_type": "display_data",
          "data": {
            "image/png": "[encoded data removed]",
            "text/plain": [
              "<Figure size 432x288 with 1 Axes>"
            ]
          },
          "metadata": {
            "tags": [],
            "needs_background": "light"
          }
        }
      ]
    },
    {
      "cell_type": "code",
      "metadata": {
        "id": "jSjQvxJtzY8D"
      },
      "source": [
        "x_val, gender_y_val = generate_df(1, \"Gender\", VALIDATION_SAMPLES)"
      ],
      "execution_count": 20,
      "outputs": []
    },
    {
      "cell_type": "code",
      "metadata": {
        "colab": {
          "base_uri": "https://localhost:8080/"
        },
        "id": "SubGa2OI6WOd",
        "outputId": "f1583fac-f398-47cf-f026-4f561a7fb517"
      },
      "source": [
        "x_val.shape, gender_y_val.shape"
      ],
      "execution_count": 21,
      "outputs": [
        {
          "output_type": "execute_result",
          "data": {
            "text/plain": [
              "((1600, 224, 224, 3), (1600, 2))"
            ]
          },
          "metadata": {
            "tags": []
          },
          "execution_count": 21
        }
      ]
    },
    {
      "cell_type": "code",
      "metadata": {
        "id": "_9CgaMsfzkf3"
      },
      "source": [
        "x_test, gender_y_test = generate_df(2, \"Gender\", TEST_SAMPLES)"
      ],
      "execution_count": 22,
      "outputs": []
    },
    {
      "cell_type": "code",
      "metadata": {
        "colab": {
          "base_uri": "https://localhost:8080/"
        },
        "id": "puNSyu426bLH",
        "outputId": "5f10f8ff-bb19-4f2f-bcf4-23cb96209909"
      },
      "source": [
        "x_test.shape, gender_y_test.shape"
      ],
      "execution_count": 23,
      "outputs": [
        {
          "output_type": "execute_result",
          "data": {
            "text/plain": [
              "((1600, 224, 224, 3), (1600, 2))"
            ]
          },
          "metadata": {
            "tags": []
          },
          "execution_count": 23
        }
      ]
    },
    {
      "cell_type": "code",
      "metadata": {
        "id": "sKuouRudzr2O"
      },
      "source": [
        "# mobilenetv2 = MobileNetV2(weights=\"imagenet\", include_top=False, input_shape=INPUT_SHAPE)"
      ],
      "execution_count": 24,
      "outputs": []
    },
    {
      "cell_type": "code",
      "metadata": {
        "id": "oqvqCuqa_8xd"
      },
      "source": [
        "# mobilenetv2.summary()"
      ],
      "execution_count": 25,
      "outputs": []
    },
    {
      "cell_type": "code",
      "metadata": {
        "colab": {
          "base_uri": "https://localhost:8080/"
        },
        "id": "m2x0pLpF3DIs",
        "outputId": "d22c3b21-cc80-465a-cb97-afca425b0be7"
      },
      "source": [
        "inceptionv3 = InceptionV3(weights=\"imagenet\", include_top=False, input_shape=INPUT_SHAPE)"
      ],
      "execution_count": 26,
      "outputs": [
        {
          "output_type": "stream",
          "text": [
            "Downloading data from https://storage.googleapis.com/tensorflow/keras-applications/inception_v3/inception_v3_weights_tf_dim_ordering_tf_kernels_notop.h5\n",
            "87916544/87910968 [==============================] - 1s 0us/step\n"
          ],
          "name": "stdout"
        }
      ]
    },
    {
      "cell_type": "code",
      "metadata": {
        "id": "uOZg6N1uz2H1"
      },
      "source": [
        "def create_model():\r\n",
        "    model = models.Sequential()\r\n",
        "    model.add(inceptionv3)\r\n",
        "    model.add(layers.GlobalAveragePooling2D())\r\n",
        "    # model.add(layers.Flatten(name=\"flatten\"))\r\n",
        "    model.add(layers.Dense(1024, activation=\"relu\"))\r\n",
        "    model.add(layers.Dropout(0.5))\r\n",
        "    model.add(layers.Dense(512, activation=\"relu\"))\r\n",
        "    model.add(layers.Dense(2, activation=\"softmax\"))\r\n",
        "    \r\n",
        "    return model"
      ],
      "execution_count": 27,
      "outputs": []
    },
    {
      "cell_type": "code",
      "metadata": {
        "id": "Zs2ZPQSaz8Al"
      },
      "source": [
        "gender_model = create_model()"
      ],
      "execution_count": 28,
      "outputs": []
    },
    {
      "cell_type": "code",
      "metadata": {
        "id": "oiKYu7vgz9_u"
      },
      "source": [
        "# learning rate scheduling\r\n",
        "lr_schedule = keras.optimizers.schedules.ExponentialDecay(initial_learning_rate=LEARNING_RATE,\r\n",
        "                                                         decay_steps=len(x_train)//BATCH_SIZE*5,\r\n",
        "                                                         decay_rate=0.5,\r\n",
        "                                                         staircase=True)"
      ],
      "execution_count": 29,
      "outputs": []
    },
    {
      "cell_type": "code",
      "metadata": {
        "id": "O96gyId40Qe-"
      },
      "source": [
        "gender_model.compile(optimizer=Adam(lr_schedule),\r\n",
        "              loss=\"categorical_crossentropy\",\r\n",
        "              metrics=['accuracy'])"
      ],
      "execution_count": 30,
      "outputs": []
    },
    {
      "cell_type": "code",
      "metadata": {
        "id": "qqey5FKf0VEm"
      },
      "source": [
        "gender_train_datagen = ImageDataGenerator(\r\n",
        "    zoom_range=0.1,\r\n",
        "    rotation_range=25,\r\n",
        "    width_shift_range=0.1,\r\n",
        "    height_shift_range=0.1,\r\n",
        "    shear_range=0.15,\r\n",
        "    horizontal_flip=True,\r\n",
        "    fill_mode=\"nearest\",\r\n",
        "    )\r\n",
        "\r\n",
        "# gender_val_datagen = ImageDataGenerator(\r\n",
        "#     rescale=1./255.\r\n",
        "# )"
      ],
      "execution_count": 31,
      "outputs": []
    },
    {
      "cell_type": "code",
      "metadata": {
        "id": "yExDKYYw0Yx2"
      },
      "source": [
        "gender_train_generator = gender_train_datagen.flow(x_train, \r\n",
        "                                                   gender_y_train, \r\n",
        "                                                   batch_size=BATCH_SIZE)\r\n",
        "\r\n",
        "# gender_val_generator = gender_val_datagen.flow(x_val, \r\n",
        "#                                                gender_y_val, \r\n",
        "#                                                batch_size=BATCH_SIZE)"
      ],
      "execution_count": 32,
      "outputs": []
    },
    {
      "cell_type": "code",
      "metadata": {
        "id": "YJBtGp_HDcmg"
      },
      "source": [
        "validation_steps = x_val.shape[0]"
      ],
      "execution_count": 33,
      "outputs": []
    },
    {
      "cell_type": "code",
      "metadata": {
        "colab": {
          "base_uri": "https://localhost:8080/"
        },
        "id": "JiHvvhL-0xH2",
        "outputId": "67d2fe39-7c77-4ecd-eda6-be900f190638"
      },
      "source": [
        "gender_history = gender_model.fit(gender_train_generator,\r\n",
        "                                  steps_per_epoch=len(gender_train_generator),\r\n",
        "                                  epochs=NUM_EPOCHS,\r\n",
        "                                  validation_data=(x_val, gender_y_val),\r\n",
        "                                  validation_steps=validation_steps)"
      ],
      "execution_count": 34,
      "outputs": [
        {
          "output_type": "stream",
          "text": [
            "Epoch 1/20\n",
            "250/250 [==============================] - 128s 457ms/step - loss: 0.2941 - accuracy: 0.8604 - val_loss: 0.1227 - val_accuracy: 0.9663\n",
            "Epoch 2/20\n",
            "250/250 [==============================] - 114s 455ms/step - loss: 0.0964 - accuracy: 0.9620 - val_loss: 0.0840 - val_accuracy: 0.9688\n",
            "Epoch 3/20\n",
            "250/250 [==============================] - 114s 457ms/step - loss: 0.0645 - accuracy: 0.9765 - val_loss: 0.1618 - val_accuracy: 0.9419\n",
            "Epoch 4/20\n",
            "250/250 [==============================] - 114s 457ms/step - loss: 0.0399 - accuracy: 0.9847 - val_loss: 0.1363 - val_accuracy: 0.9544\n",
            "Epoch 5/20\n",
            "250/250 [==============================] - 114s 458ms/step - loss: 0.0398 - accuracy: 0.9848 - val_loss: 0.1198 - val_accuracy: 0.9700\n",
            "Epoch 6/20\n",
            "250/250 [==============================] - 114s 457ms/step - loss: 0.0183 - accuracy: 0.9937 - val_loss: 0.0902 - val_accuracy: 0.9800\n",
            "Epoch 7/20\n",
            "250/250 [==============================] - 114s 457ms/step - loss: 0.0173 - accuracy: 0.9933 - val_loss: 0.1065 - val_accuracy: 0.9769\n",
            "Epoch 8/20\n",
            "250/250 [==============================] - 115s 460ms/step - loss: 0.0123 - accuracy: 0.9967 - val_loss: 0.1131 - val_accuracy: 0.9787\n",
            "Epoch 9/20\n",
            "250/250 [==============================] - 115s 461ms/step - loss: 0.0102 - accuracy: 0.9961 - val_loss: 0.1683 - val_accuracy: 0.9663\n",
            "Epoch 10/20\n",
            "250/250 [==============================] - 115s 461ms/step - loss: 0.0126 - accuracy: 0.9959 - val_loss: 0.1326 - val_accuracy: 0.9706\n",
            "Epoch 11/20\n",
            "250/250 [==============================] - 115s 461ms/step - loss: 0.0084 - accuracy: 0.9965 - val_loss: 0.0855 - val_accuracy: 0.9800\n",
            "Epoch 12/20\n",
            "250/250 [==============================] - 115s 460ms/step - loss: 0.0029 - accuracy: 0.9994 - val_loss: 0.0979 - val_accuracy: 0.9787\n",
            "Epoch 13/20\n",
            "250/250 [==============================] - 115s 460ms/step - loss: 0.0115 - accuracy: 0.9966 - val_loss: 0.0952 - val_accuracy: 0.9787\n",
            "Epoch 14/20\n",
            "250/250 [==============================] - 115s 461ms/step - loss: 0.0039 - accuracy: 0.9986 - val_loss: 0.0940 - val_accuracy: 0.9800\n",
            "Epoch 15/20\n",
            "250/250 [==============================] - 115s 461ms/step - loss: 0.0029 - accuracy: 0.9989 - val_loss: 0.1084 - val_accuracy: 0.9775\n",
            "Epoch 16/20\n",
            "250/250 [==============================] - 116s 462ms/step - loss: 0.0035 - accuracy: 0.9989 - val_loss: 0.1024 - val_accuracy: 0.9794\n",
            "Epoch 17/20\n",
            "250/250 [==============================] - 115s 461ms/step - loss: 0.0031 - accuracy: 0.9989 - val_loss: 0.0998 - val_accuracy: 0.9800\n",
            "Epoch 18/20\n",
            "250/250 [==============================] - 115s 461ms/step - loss: 0.0050 - accuracy: 0.9979 - val_loss: 0.0999 - val_accuracy: 0.9812\n",
            "Epoch 19/20\n",
            "250/250 [==============================] - 115s 461ms/step - loss: 0.0013 - accuracy: 0.9995 - val_loss: 0.0993 - val_accuracy: 0.9844\n",
            "Epoch 20/20\n",
            "250/250 [==============================] - 115s 460ms/step - loss: 0.0030 - accuracy: 0.9995 - val_loss: 0.1003 - val_accuracy: 0.9812\n"
          ],
          "name": "stdout"
        }
      ]
    },
    {
      "cell_type": "code",
      "metadata": {
        "id": "772IDCjQCKTE"
      },
      "source": [
        "gender_model.save(\"image_recognition_gender_model.h5\", include_optimizer=True)"
      ],
      "execution_count": 35,
      "outputs": []
    }
  ]
}